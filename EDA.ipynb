{
 "cells": [
  {
   "cell_type": "code",
   "execution_count": 11,
   "id": "effective-export",
   "metadata": {},
   "outputs": [],
   "source": [
    "import numpy as np\n",
    "import pandas as pd\n",
    "import os\n",
    "from PIL import Image\n",
    "import matplotlib.pyplot as plt\n",
    "import random"
   ]
  },
  {
   "cell_type": "code",
   "execution_count": 12,
   "id": "continuous-creation",
   "metadata": {},
   "outputs": [
    {
     "data": {
      "text/plain": [
       "'Tesla V100-PCIE-32GB'"
      ]
     },
     "execution_count": 12,
     "metadata": {},
     "output_type": "execute_result"
    }
   ],
   "source": [
    "import torch\n",
    "\n",
    "#torch.cuda.is_available()\n",
    "torch.cuda.get_device_name(0)"
   ]
  },
  {
   "cell_type": "markdown",
   "id": "beneficial-dodge",
   "metadata": {},
   "source": [
    "# EDA"
   ]
  },
  {
   "cell_type": "code",
   "execution_count": 13,
   "id": "english-costs",
   "metadata": {},
   "outputs": [],
   "source": [
    "combination = [(m, g, a) for m in ['m', 'i', 'n'] for g in ['male', 'female'] for a in [0, 1, 2]]"
   ]
  },
  {
   "cell_type": "code",
   "execution_count": 14,
   "id": "bacterial-italian",
   "metadata": {},
   "outputs": [
    {
     "data": {
      "text/plain": [
       "[('m', 'male', 0),\n",
       " ('m', 'male', 1),\n",
       " ('m', 'male', 2),\n",
       " ('m', 'female', 0),\n",
       " ('m', 'female', 1),\n",
       " ('m', 'female', 2),\n",
       " ('i', 'male', 0),\n",
       " ('i', 'male', 1),\n",
       " ('i', 'male', 2),\n",
       " ('i', 'female', 0),\n",
       " ('i', 'female', 1),\n",
       " ('i', 'female', 2),\n",
       " ('n', 'male', 0),\n",
       " ('n', 'male', 1),\n",
       " ('n', 'male', 2),\n",
       " ('n', 'female', 0),\n",
       " ('n', 'female', 1),\n",
       " ('n', 'female', 2)]"
      ]
     },
     "execution_count": 14,
     "metadata": {},
     "output_type": "execute_result"
    }
   ],
   "source": [
    "combination"
   ]
  },
  {
   "cell_type": "code",
   "execution_count": 42,
   "id": "elect-pennsylvania",
   "metadata": {},
   "outputs": [],
   "source": [
    "img_name = '/opt/ml/input/data/train/images/000523_female_Asian_51/mask4.jpg'\n",
    "\n",
    "mask = img_name.split('/')[-1][:1]\n",
    "features = img_name.split('/')[-2].split('_')\n",
    "gender = features[1]\n",
    "age = int(features[3]) // 30"
   ]
  },
  {
   "cell_type": "code",
   "execution_count": 43,
   "id": "potential-friendship",
   "metadata": {},
   "outputs": [],
   "source": [
    "gender, _, age = img_name.split('/')[-2].split('_')[1:]"
   ]
  },
  {
   "cell_type": "code",
   "execution_count": 46,
   "id": "former-operation",
   "metadata": {},
   "outputs": [],
   "source": [
    "for i, (m, g, a) in enumerate(combination):\n",
    "    if mask == m and gender == g and age == a:\n",
    "        target = i"
   ]
  },
  {
   "cell_type": "code",
   "execution_count": 47,
   "id": "biblical-subdivision",
   "metadata": {},
   "outputs": [],
   "source": [
    "train_dir = '/opt/ml/input/data/train'"
   ]
  },
  {
   "cell_type": "code",
   "execution_count": 48,
   "id": "standard-shock",
   "metadata": {},
   "outputs": [
    {
     "data": {
      "text/html": [
       "<div>\n",
       "<style scoped>\n",
       "    .dataframe tbody tr th:only-of-type {\n",
       "        vertical-align: middle;\n",
       "    }\n",
       "\n",
       "    .dataframe tbody tr th {\n",
       "        vertical-align: top;\n",
       "    }\n",
       "\n",
       "    .dataframe thead th {\n",
       "        text-align: right;\n",
       "    }\n",
       "</style>\n",
       "<table border=\"1\" class=\"dataframe\">\n",
       "  <thead>\n",
       "    <tr style=\"text-align: right;\">\n",
       "      <th></th>\n",
       "      <th>id</th>\n",
       "      <th>gender</th>\n",
       "      <th>race</th>\n",
       "      <th>age</th>\n",
       "      <th>path</th>\n",
       "    </tr>\n",
       "  </thead>\n",
       "  <tbody>\n",
       "    <tr>\n",
       "      <th>0</th>\n",
       "      <td>000001</td>\n",
       "      <td>female</td>\n",
       "      <td>Asian</td>\n",
       "      <td>45</td>\n",
       "      <td>000001_female_Asian_45</td>\n",
       "    </tr>\n",
       "    <tr>\n",
       "      <th>1</th>\n",
       "      <td>000002</td>\n",
       "      <td>female</td>\n",
       "      <td>Asian</td>\n",
       "      <td>52</td>\n",
       "      <td>000002_female_Asian_52</td>\n",
       "    </tr>\n",
       "    <tr>\n",
       "      <th>2</th>\n",
       "      <td>000004</td>\n",
       "      <td>male</td>\n",
       "      <td>Asian</td>\n",
       "      <td>54</td>\n",
       "      <td>000004_male_Asian_54</td>\n",
       "    </tr>\n",
       "    <tr>\n",
       "      <th>3</th>\n",
       "      <td>000005</td>\n",
       "      <td>female</td>\n",
       "      <td>Asian</td>\n",
       "      <td>58</td>\n",
       "      <td>000005_female_Asian_58</td>\n",
       "    </tr>\n",
       "    <tr>\n",
       "      <th>4</th>\n",
       "      <td>000006</td>\n",
       "      <td>female</td>\n",
       "      <td>Asian</td>\n",
       "      <td>59</td>\n",
       "      <td>000006_female_Asian_59</td>\n",
       "    </tr>\n",
       "  </tbody>\n",
       "</table>\n",
       "</div>"
      ],
      "text/plain": [
       "       id  gender   race  age                    path\n",
       "0  000001  female  Asian   45  000001_female_Asian_45\n",
       "1  000002  female  Asian   52  000002_female_Asian_52\n",
       "2  000004    male  Asian   54    000004_male_Asian_54\n",
       "3  000005  female  Asian   58  000005_female_Asian_58\n",
       "4  000006  female  Asian   59  000006_female_Asian_59"
      ]
     },
     "execution_count": 48,
     "metadata": {},
     "output_type": "execute_result"
    }
   ],
   "source": [
    "table = pd.read_csv('/opt/ml/input/data/train/train.csv')\n",
    "table.head()"
   ]
  },
  {
   "cell_type": "code",
   "execution_count": 49,
   "id": "common-childhood",
   "metadata": {},
   "outputs": [
    {
     "data": {
      "text/plain": [
       "'000002_female_Asian_52'"
      ]
     },
     "execution_count": 49,
     "metadata": {},
     "output_type": "execute_result"
    }
   ],
   "source": [
    "table.iloc[1, 4]"
   ]
  },
  {
   "cell_type": "code",
   "execution_count": 50,
   "id": "forbidden-convergence",
   "metadata": {},
   "outputs": [],
   "source": [
    "table_origin = table.copy()"
   ]
  },
  {
   "cell_type": "code",
   "execution_count": 51,
   "id": "entire-overall",
   "metadata": {},
   "outputs": [
    {
     "data": {
      "text/html": [
       "<div>\n",
       "<style scoped>\n",
       "    .dataframe tbody tr th:only-of-type {\n",
       "        vertical-align: middle;\n",
       "    }\n",
       "\n",
       "    .dataframe tbody tr th {\n",
       "        vertical-align: top;\n",
       "    }\n",
       "\n",
       "    .dataframe thead th {\n",
       "        text-align: right;\n",
       "    }\n",
       "</style>\n",
       "<table border=\"1\" class=\"dataframe\">\n",
       "  <thead>\n",
       "    <tr style=\"text-align: right;\">\n",
       "      <th></th>\n",
       "      <th>age</th>\n",
       "    </tr>\n",
       "  </thead>\n",
       "  <tbody>\n",
       "    <tr>\n",
       "      <th>count</th>\n",
       "      <td>2700.000000</td>\n",
       "    </tr>\n",
       "    <tr>\n",
       "      <th>mean</th>\n",
       "      <td>37.708148</td>\n",
       "    </tr>\n",
       "    <tr>\n",
       "      <th>std</th>\n",
       "      <td>16.985904</td>\n",
       "    </tr>\n",
       "    <tr>\n",
       "      <th>min</th>\n",
       "      <td>18.000000</td>\n",
       "    </tr>\n",
       "    <tr>\n",
       "      <th>25%</th>\n",
       "      <td>20.000000</td>\n",
       "    </tr>\n",
       "    <tr>\n",
       "      <th>50%</th>\n",
       "      <td>36.000000</td>\n",
       "    </tr>\n",
       "    <tr>\n",
       "      <th>75%</th>\n",
       "      <td>55.000000</td>\n",
       "    </tr>\n",
       "    <tr>\n",
       "      <th>max</th>\n",
       "      <td>60.000000</td>\n",
       "    </tr>\n",
       "  </tbody>\n",
       "</table>\n",
       "</div>"
      ],
      "text/plain": [
       "               age\n",
       "count  2700.000000\n",
       "mean     37.708148\n",
       "std      16.985904\n",
       "min      18.000000\n",
       "25%      20.000000\n",
       "50%      36.000000\n",
       "75%      55.000000\n",
       "max      60.000000"
      ]
     },
     "execution_count": 51,
     "metadata": {},
     "output_type": "execute_result"
    }
   ],
   "source": [
    "table.describe()"
   ]
  },
  {
   "cell_type": "code",
   "execution_count": 52,
   "id": "subject-rabbit",
   "metadata": {},
   "outputs": [],
   "source": [
    "dic_gender = {'male': 0, 'female': 1}\n",
    "\n",
    "def one_hot_encoding(data, dic):\n",
    "    output = []\n",
    "    for d in data:\n",
    "        output.append(dic[d])\n",
    "    return output"
   ]
  },
  {
   "cell_type": "code",
   "execution_count": 53,
   "id": "addressed-japanese",
   "metadata": {},
   "outputs": [
    {
     "data": {
      "text/plain": [
       "[1, 1, 0, 1, 1, 1]"
      ]
     },
     "execution_count": 53,
     "metadata": {},
     "output_type": "execute_result"
    }
   ],
   "source": [
    "one_hot_encoding(table.gender, dic_gender)[:6]"
   ]
  },
  {
   "cell_type": "code",
   "execution_count": 54,
   "id": "cubic-dancing",
   "metadata": {
    "tags": []
   },
   "outputs": [],
   "source": [
    "table.gender = one_hot_encoding(table.gender, dic_gender)"
   ]
  },
  {
   "cell_type": "code",
   "execution_count": 55,
   "id": "based-accreditation",
   "metadata": {},
   "outputs": [
    {
     "data": {
      "text/plain": [
       "Asian    2700\n",
       "Name: race, dtype: int64"
      ]
     },
     "execution_count": 55,
     "metadata": {},
     "output_type": "execute_result"
    }
   ],
   "source": [
    "table.race.value_counts()"
   ]
  },
  {
   "cell_type": "code",
   "execution_count": 56,
   "id": "bored-bible",
   "metadata": {},
   "outputs": [],
   "source": [
    "del table['race']"
   ]
  },
  {
   "cell_type": "code",
   "execution_count": 57,
   "id": "distant-settlement",
   "metadata": {},
   "outputs": [],
   "source": [
    "del table['path']"
   ]
  },
  {
   "cell_type": "code",
   "execution_count": 58,
   "id": "bottom-maximum",
   "metadata": {},
   "outputs": [
    {
     "data": {
      "text/plain": [
       "female    1658\n",
       "male      1042\n",
       "Name: gender, dtype: int64"
      ]
     },
     "execution_count": 58,
     "metadata": {},
     "output_type": "execute_result"
    }
   ],
   "source": [
    "table_origin.gender.value_counts()"
   ]
  },
  {
   "cell_type": "code",
   "execution_count": 59,
   "id": "beneficial-reaction",
   "metadata": {
    "tags": []
   },
   "outputs": [
    {
     "data": {
      "text/plain": [
       "<matplotlib.axes._subplots.AxesSubplot at 0x7fa4c25b1410>"
      ]
     },
     "execution_count": 59,
     "metadata": {},
     "output_type": "execute_result"
    },
    {
     "data": {
      "image/png": "[encoded data removed]",
      "text/plain": [
       "<Figure size 432x288 with 1 Axes>"
      ]
     },
     "metadata": {
      "needs_background": "light"
     },
     "output_type": "display_data"
    }
   ],
   "source": [
    "table_origin.gender.value_counts().plot.bar()"
   ]
  },
  {
   "cell_type": "code",
   "execution_count": 60,
   "id": "outer-creature",
   "metadata": {},
   "outputs": [
    {
     "data": {
      "text/plain": [
       "count    2700.000000\n",
       "mean       37.708148\n",
       "std        16.985904\n",
       "min        18.000000\n",
       "25%        20.000000\n",
       "50%        36.000000\n",
       "75%        55.000000\n",
       "max        60.000000\n",
       "Name: age, dtype: float64"
      ]
     },
     "execution_count": 60,
     "metadata": {},
     "output_type": "execute_result"
    }
   ],
   "source": [
    "table.age.describe()"
   ]
  },
  {
   "cell_type": "code",
   "execution_count": 61,
   "id": "verbal-teddy",
   "metadata": {
    "tags": []
   },
   "outputs": [
    {
     "name": "stderr",
     "output_type": "stream",
     "text": [
      "/opt/conda/lib/python3.7/site-packages/ipykernel_launcher.py:1: SettingWithCopyWarning: \n",
      "A value is trying to be set on a copy of a slice from a DataFrame\n",
      "\n",
      "See the caveats in the documentation: https://pandas.pydata.org/pandas-docs/stable/user_guide/indexing.html#returning-a-view-versus-a-copy\n",
      "  \"\"\"Entry point for launching an IPython kernel.\n"
     ]
    }
   ],
   "source": [
    "table.age[table.age < 30] = 0"
   ]
  },
  {
   "cell_type": "code",
   "execution_count": 62,
   "id": "ideal-summer",
   "metadata": {
    "tags": []
   },
   "outputs": [
    {
     "name": "stderr",
     "output_type": "stream",
     "text": [
      "/opt/conda/lib/python3.7/site-packages/ipykernel_launcher.py:1: SettingWithCopyWarning: \n",
      "A value is trying to be set on a copy of a slice from a DataFrame\n",
      "\n",
      "See the caveats in the documentation: https://pandas.pydata.org/pandas-docs/stable/user_guide/indexing.html#returning-a-view-versus-a-copy\n",
      "  \"\"\"Entry point for launching an IPython kernel.\n"
     ]
    }
   ],
   "source": [
    "table.age[58 <= table.age] = 2"
   ]
  },
  {
   "cell_type": "code",
   "execution_count": 63,
   "id": "demonstrated-lottery",
   "metadata": {
    "tags": []
   },
   "outputs": [
    {
     "name": "stderr",
     "output_type": "stream",
     "text": [
      "/opt/conda/lib/python3.7/site-packages/ipykernel_launcher.py:1: SettingWithCopyWarning: \n",
      "A value is trying to be set on a copy of a slice from a DataFrame\n",
      "\n",
      "See the caveats in the documentation: https://pandas.pydata.org/pandas-docs/stable/user_guide/indexing.html#returning-a-view-versus-a-copy\n",
      "  \"\"\"Entry point for launching an IPython kernel.\n"
     ]
    }
   ],
   "source": [
    "table.age[30 <= table.age] = 1"
   ]
  },
  {
   "cell_type": "code",
   "execution_count": 64,
   "id": "sized-athletics",
   "metadata": {},
   "outputs": [
    {
     "data": {
      "text/plain": [
       "0    1281\n",
       "1     983\n",
       "2     436\n",
       "Name: age, dtype: int64"
      ]
     },
     "execution_count": 64,
     "metadata": {},
     "output_type": "execute_result"
    }
   ],
   "source": [
    "table.age.value_counts()"
   ]
  },
  {
   "cell_type": "code",
   "execution_count": 65,
   "id": "analyzed-honey",
   "metadata": {},
   "outputs": [
    {
     "data": {
      "text/plain": [
       "<matplotlib.axes._subplots.AxesSubplot at 0x7fa4c255f810>"
      ]
     },
     "execution_count": 65,
     "metadata": {},
     "output_type": "execute_result"
    },
    {
     "data": {
      "image/png": "[encoded data removed]",
      "text/plain": [
       "<Figure size 432x288 with 1 Axes>"
      ]
     },
     "metadata": {
      "needs_background": "light"
     },
     "output_type": "display_data"
    }
   ],
   "source": [
    "table.age.value_counts().plot.bar()"
   ]
  },
  {
   "cell_type": "markdown",
   "id": "settled-information",
   "metadata": {},
   "source": [
    "# Data loader"
   ]
  },
  {
   "cell_type": "code",
   "execution_count": 39,
   "id": "right-protection",
   "metadata": {},
   "outputs": [
    {
     "data": {
      "text/plain": [
       "5400"
      ]
     },
     "execution_count": 39,
     "metadata": {},
     "output_type": "execute_result"
    }
   ],
   "source": [
    "len(os.listdir(train_dir + '/images'))"
   ]
  },
  {
   "cell_type": "code",
   "execution_count": 40,
   "id": "pursuant-colleague",
   "metadata": {},
   "outputs": [],
   "source": [
    "file_name = []\n",
    "ids = []\n",
    "for name_underscore in os.listdir(train_dir + '/images'):\n",
    "    if not name_underscore[:2] == '._':\n",
    "        file_name.append(name_underscore)\n",
    "        ids.append(name_underscore.split('_')[0])"
   ]
  },
  {
   "cell_type": "code",
   "execution_count": null,
   "id": "opposed-pride",
   "metadata": {},
   "outputs": [],
   "source": [
    "set(name) == set(table.id.values)"
   ]
  },
  {
   "cell_type": "code",
   "execution_count": null,
   "id": "expected-wholesale",
   "metadata": {},
   "outputs": [],
   "source": [
    "data = []\n",
    "for person in file_name:\n",
    "    images = [train_dir + '/images/' + person + '/' + image for image in os.listdir(train_dir + '/images/' + person) if not image[:1] == '.']\n",
    "    for image in images:\n",
    "        data.append(image)"
   ]
  },
  {
   "cell_type": "code",
   "execution_count": null,
   "id": "numerical-interstate",
   "metadata": {},
   "outputs": [],
   "source": [
    "len(data) / 2700"
   ]
  },
  {
   "cell_type": "code",
   "execution_count": null,
   "id": "painted-athens",
   "metadata": {},
   "outputs": [],
   "source": [
    "len(ids)"
   ]
  },
  {
   "cell_type": "code",
   "execution_count": null,
   "id": "identified-marks",
   "metadata": {},
   "outputs": [],
   "source": [
    "ids = []\n",
    "genders = []\n",
    "ages = []\n",
    "masks = []\n",
    "\n",
    "for d in data:\n",
    "    mask = d.split('/')[-1][:1]\n",
    "    features = d.split('/')[-2].split('_')\n",
    "    ids.append(features[0])\n",
    "    genders.append(features[1])\n",
    "    ages.append(int(features[3]) // 30)\n",
    "    masks.append(mask)"
   ]
  },
  {
   "cell_type": "code",
   "execution_count": null,
   "id": "south-morocco",
   "metadata": {},
   "outputs": [],
   "source": [
    "df = pd.DataFrame({'id': ids, 'gender': genders, 'age': ages, 'Mask': masks, 'target': None, 'img': data})"
   ]
  },
  {
   "cell_type": "code",
   "execution_count": null,
   "id": "double-reform",
   "metadata": {
    "tags": []
   },
   "outputs": [],
   "source": [
    "combination = [(m, g, a) for m in ['m', 'i', 'n'] for g in ['male', 'female'] for a in [0, 1, 2]]"
   ]
  },
  {
   "cell_type": "code",
   "execution_count": null,
   "id": "incident-alaska",
   "metadata": {
    "tags": []
   },
   "outputs": [],
   "source": [
    "for i, (m, g, a) in enumerate(combination):\n",
    "    df.target[(df.Mask == m) & (df.gender == g) & (df.age == a)] = i"
   ]
  },
  {
   "cell_type": "code",
   "execution_count": null,
   "id": "greenhouse-reach",
   "metadata": {},
   "outputs": [],
   "source": [
    "df.target.value_counts()"
   ]
  },
  {
   "cell_type": "code",
   "execution_count": null,
   "id": "industrial-stocks",
   "metadata": {},
   "outputs": [],
   "source": [
    "df.target.value_counts().plot.bar()"
   ]
  },
  {
   "cell_type": "code",
   "execution_count": null,
   "id": "improved-creation",
   "metadata": {},
   "outputs": [],
   "source": [
    "df.gender = one_hot_encoding(df.gender, dic_gender)"
   ]
  },
  {
   "cell_type": "code",
   "execution_count": null,
   "id": "agricultural-implement",
   "metadata": {},
   "outputs": [],
   "source": [
    "df.gender.map(dic_gender).value_counts()"
   ]
  },
  {
   "cell_type": "code",
   "execution_count": null,
   "id": "mobile-combat",
   "metadata": {},
   "outputs": [],
   "source": [
    "fig = plt.figure(figsize=(15,25))\n",
    "idx = 0\n",
    "\n",
    "for i in range(20):\n",
    "    rand = random.randint(0, len(df))\n",
    "    img = Image.open(df.img[rand])\n",
    "    idx += 1\n",
    "    ax = plt.subplot(5, 4, idx)\n",
    "    ax.set_title(df.Mask[rand] + '/' + df.gender[rand] + '/' + str(df.age[rand]))\n",
    "    plt.imshow(img)"
   ]
  },
  {
   "cell_type": "code",
   "execution_count": null,
   "id": "raising-visiting",
   "metadata": {},
   "outputs": [],
   "source": [
    "import os\n",
    "import sys\n",
    "from glob import glob\n",
    "import numpy as np\n",
    "import pandas as pd\n",
    "import cv2\n",
    "from PIL import Image\n",
    "from tqdm import tqdm\n",
    "from time import time\n",
    "\n",
    "import matplotlib.pyplot as plt\n",
    "import seaborn as sns"
   ]
  },
  {
   "cell_type": "code",
   "execution_count": null,
   "id": "former-preliminary",
   "metadata": {},
   "outputs": [],
   "source": [
    "class cfg:\n",
    "    data_dir = '/opt/ml/input/data/train'\n",
    "    img_dir = f'{data_dir}/images'\n",
    "    df_path = f'{data_dir}/train.csv'"
   ]
  },
  {
   "cell_type": "code",
   "execution_count": null,
   "id": "chinese-physics",
   "metadata": {},
   "outputs": [],
   "source": [
    "num2class = ['incorrect_mask', 'mask1', 'mask2', 'mask3',\n",
    "             'mask4', 'mask5', 'normal']\n",
    "class2num = {k: v for v, k in enumerate(num2class)}\n",
    "\n",
    "df = pd.read_csv(cfg.df_path)\n",
    "df.head()"
   ]
  },
  {
   "cell_type": "code",
   "execution_count": null,
   "id": "living-progressive",
   "metadata": {},
   "outputs": [],
   "source": [
    "def get_ext(img_dir, img_id):\n",
    "    filename = os.listdir(os.path.join(img_dir, img_id))[0]\n",
    "    ext = os.path.splitext(filename)[-1].lower()\n",
    "    return ext"
   ]
  },
  {
   "cell_type": "code",
   "execution_count": null,
   "id": "divided-miniature",
   "metadata": {},
   "outputs": [],
   "source": [
    "def get_img_stats(img_dir, img_ids):\n",
    "    img_info = dict(heights=[], widths=[], means=[], stds=[])\n",
    "    for img_id in tqdm(img_ids):\n",
    "        for path in glob(os.path.join(img_dir, img_id, '*')):\n",
    "            img = np.array(Image.open(path))\n",
    "            h, w, _ = img.shape\n",
    "            img_info['heights'].append(h)\n",
    "            img_info['widths'].append(w)\n",
    "            img_info['means'].append(img.mean(axis=(0,1)))\n",
    "            img_info['stds'].append(img.std(axis=(0,1)))\n",
    "    return img_info"
   ]
  },
  {
   "cell_type": "code",
   "execution_count": null,
   "id": "tutorial-stone",
   "metadata": {},
   "outputs": [],
   "source": [
    "img_info = get_img_stats(cfg.img_dir, df.path.values)\n",
    "\n",
    "print(f'Total number of people is {len(df)}')\n",
    "print(f'Total number of images is {len(df) * 7}')\n",
    "\n",
    "print(f'Minimum height for dataset is {np.min(img_info[\"heights\"])}')\n",
    "print(f'Maximum height for dataset is {np.max(img_info[\"heights\"])}')\n",
    "print(f'Average height for dataset is {int(np.mean(img_info[\"heights\"]))}')\n",
    "print(f'Minimum width for dataset is {np.min(img_info[\"widths\"])}')\n",
    "print(f'Maximum width for dataset is {np.max(img_info[\"widths\"])}')\n",
    "print(f'Average width for dataset is {int(np.mean(img_info[\"widths\"]))}')\n",
    "\n",
    "print(f'RGB Mean: {np.mean(img_info[\"means\"], axis=0) / 255.}')\n",
    "print(f'RGB Standard Deviation: {np.mean(img_info[\"stds\"], axis=0) / 255.}')"
   ]
  },
  {
   "cell_type": "code",
   "execution_count": null,
   "id": "worthy-geology",
   "metadata": {},
   "outputs": [],
   "source": [
    "plt.figure(figsize=(6, 4.5)) \n",
    "ax = sns.countplot(x = 'gender', data = df, palette=[\"#55967e\", \"#263959\"])\n",
    "\n",
    "plt.xticks( np.arange(2), ['female', 'male'] )\n",
    "plt.title('Sex Ratio',fontsize= 14)\n",
    "plt.xlabel('')\n",
    "plt.ylabel('Number of images')\n",
    "\n",
    "counts = df['gender'].value_counts()\n",
    "counts_pct = [f'{elem * 100:.2f}%' for elem in counts / counts.sum()]\n",
    "for i, v in enumerate(counts_pct):\n",
    "    ax.text(i, 0, v, horizontalalignment = 'center', size = 14, color = 'w', fontweight = 'bold')\n",
    "    \n",
    "plt.show()"
   ]
  },
  {
   "cell_type": "code",
   "execution_count": null,
   "id": "olive-zoning",
   "metadata": {},
   "outputs": [],
   "source": [
    "sns.displot(df, x=\"age\", hue=\"gender\", stat=\"density\")"
   ]
  },
  {
   "cell_type": "code",
   "execution_count": null,
   "id": "invisible-looking",
   "metadata": {},
   "outputs": [],
   "source": [
    "# 마스크의 유무에 따른 이미지 픽셀값의 분포"
   ]
  },
  {
   "cell_type": "code",
   "execution_count": null,
   "id": "interesting-french",
   "metadata": {},
   "outputs": [],
   "source": [
    "img_id = df.iloc[500].path\n",
    "ext = get_ext(cfg.img_dir, img_id)"
   ]
  },
  {
   "cell_type": "code",
   "execution_count": null,
   "id": "consistent-component",
   "metadata": {},
   "outputs": [],
   "source": [
    "plt.figure()\n",
    "plt.subplot(111)\n",
    "\n",
    "for class_id in num2class:\n",
    "    img = np.array(Image.open(os.path.join(cfg.img_dir, img_id, class_id+ext)).convert('L'))\n",
    "    histogram, bin_edges = np.histogram(img, bins=256, range=(0, 255))\n",
    "    sns.lineplot(data=histogram)\n",
    "\n",
    "plt.legend(num2class)\n",
    "plt.title('Class Grayscale Histogram Plot', fontsize=15)"
   ]
  },
  {
   "cell_type": "code",
   "execution_count": null,
   "id": "alone-moisture",
   "metadata": {},
   "outputs": [],
   "source": [
    "plt.figure()\n",
    "plt.subplot(111)\n",
    "\n",
    "img = np.array(Image.open(os.path.join(cfg.img_dir, img_id, 'incorrect_mask'+ext)).convert('L'))\n",
    "histogram, bin_edges = np.histogram(img, bins=256, range=(0, 255))\n",
    "sns.lineplot(data=histogram)\n",
    "\n",
    "img = np.array(Image.open(os.path.join(cfg.img_dir, img_id, 'normal'+ext)).convert('L'))\n",
    "histogram, bin_edges = np.histogram(img, bins=256, range=(0, 255))\n",
    "sns.lineplot(data=histogram, color='hotpink')\n",
    "\n",
    "histograms = []\n",
    "for i in range(1, 6):\n",
    "    img = np.array(Image.open(os.path.join(cfg.img_dir, img_id, num2class[i]+ext)).convert('L'))\n",
    "    histogram, bin_edges = np.histogram(img, bins=256, range=(0, 255))\n",
    "    histograms.append(histogram)\n",
    "sns.lineplot(data=np.mean(histograms, axis=0))\n",
    "\n",
    "plt.legend(['incorrect_mask', 'normal', 'mask average'])"
   ]
  },
  {
   "cell_type": "code",
   "execution_count": null,
   "id": "bronze-dover",
   "metadata": {},
   "outputs": [],
   "source": [
    "plt.figure()\n",
    "plt.subplot(111)\n",
    "\n",
    "img = np.array(Image.open(os.path.join(cfg.img_dir, img_id, 'normal'+ext)))\n",
    "colormap = ['red', 'green', 'blue']\n",
    "for i in range(3):\n",
    "    histogram, bin_edges = np.histogram(img[..., i], bins=256, range=(0, 255))\n",
    "    sns.lineplot(data=histogram, color=colormap[i])\n",
    "\n",
    "plt.legend()\n",
    "plt.title('RGB Histogram Plot - Normal', fontsize=15)"
   ]
  },
  {
   "cell_type": "code",
   "execution_count": null,
   "id": "variable-adaptation",
   "metadata": {},
   "outputs": [],
   "source": [
    "def plot_raw_images(img_dir, img_id):\n",
    "    ext = get_ext(img_dir, img_id)\n",
    "    img = np.array(Image.open(os.path.join(img_dir, img_id, 'normal' + ext)))\n",
    "    \n",
    "    plt.figure(figsize=(6,6))\n",
    "    plt.imshow(img)"
   ]
  },
  {
   "cell_type": "code",
   "execution_count": null,
   "id": "noted-scholarship",
   "metadata": {},
   "outputs": [],
   "source": [
    "plot_raw_images(cfg.img_dir, img_id)"
   ]
  },
  {
   "cell_type": "code",
   "execution_count": null,
   "id": "engaging-drama",
   "metadata": {},
   "outputs": [],
   "source": [
    "def plot_mask_images(img_dir, img_id):\n",
    "    ext = get_ext(img_dir, img_id)\n",
    "    imgs = [np.array(Image.open(os.path.join(img_dir, img_id, class_name + ext))) for class_name in num2class[:-1]]\n",
    "    \n",
    "    n_rows, n_cols = 2, 3\n",
    "    fig, axes = plt.subplots(n_rows, n_cols, sharex=True, sharey=True, figsize=(15, 12))\n",
    "    for i in range(n_rows*n_cols):\n",
    "        axes[i//(n_rows+1)][i%n_cols].imshow(imgs[i])\n",
    "        axes[i//(n_rows+1)][i%n_cols].set_title(f'{num2class[i]}', color='r')\n",
    "    plt.tight_layout()"
   ]
  },
  {
   "cell_type": "code",
   "execution_count": null,
   "id": "elementary-surface",
   "metadata": {},
   "outputs": [],
   "source": [
    "plot_mask_images(cfg.img_dir, img_id)"
   ]
  },
  {
   "cell_type": "code",
   "execution_count": null,
   "id": "satisfactory-anthony",
   "metadata": {},
   "outputs": [],
   "source": [
    "os.getcwd()"
   ]
  },
  {
   "cell_type": "code",
   "execution_count": null,
   "id": "illegal-commodity",
   "metadata": {},
   "outputs": [],
   "source": [
    "face_cascade = cv2.CascadeClassifier('haarcascade_frontalface_default.xml')"
   ]
  },
  {
   "cell_type": "code",
   "execution_count": null,
   "id": "hired-financing",
   "metadata": {},
   "outputs": [],
   "source": [
    "imgs = []\n",
    "for class_id in num2class:\n",
    "    img = np.array(Image.open(os.path.join(cfg.img_dir, img_id, class_id+ext)))\n",
    "    imgs.append(img)\n",
    "imgs = np.array(imgs)"
   ]
  },
  {
   "cell_type": "code",
   "execution_count": null,
   "id": "rough-market",
   "metadata": {},
   "outputs": [],
   "source": [
    "fig, axes = plt.subplots(1, 3, sharex=True, sharey=True, figsize=(12, 6))\n",
    "axes[0].imshow(imgs[0])\n",
    "axes[1].imshow(imgs[1])\n",
    "axes[2].imshow(imgs[-1])"
   ]
  },
  {
   "cell_type": "code",
   "execution_count": null,
   "id": "empty-essex",
   "metadata": {},
   "outputs": [],
   "source": [
    "for img in imgs:\n",
    "    face_bbox = face_cascade.detectMultiScale(cv2.cvtColor(img, cv2.COLOR_BGR2GRAY), 1.1, 4)\n",
    "    for (x, y, w, h) in face_bbox:\n",
    "        cv2.rectangle(img, (x, y), (x+w, y+h), (255, 0, 0), 4)"
   ]
  },
  {
   "cell_type": "code",
   "execution_count": null,
   "id": "aware-consultation",
   "metadata": {},
   "outputs": [],
   "source": [
    "fig, axes = plt.subplots(1, 3, sharex=True, sharey=True, figsize=(12, 6))\n",
    "axes[0].imshow(imgs[0])\n",
    "axes[1].imshow(imgs[1])\n",
    "axes[2].imshow(imgs[-1])"
   ]
  },
  {
   "cell_type": "code",
   "execution_count": null,
   "id": "detected-trial",
   "metadata": {},
   "outputs": [],
   "source": [
    "# PCA"
   ]
  },
  {
   "cell_type": "code",
   "execution_count": null,
   "id": "greenhouse-plymouth",
   "metadata": {},
   "outputs": [],
   "source": [
    "from sklearn.manifold import TSNE\n",
    "from sklearn.decomposition import PCA"
   ]
  },
  {
   "cell_type": "code",
   "execution_count": null,
   "id": "executed-parliament",
   "metadata": {},
   "outputs": [],
   "source": [
    "n_imgs = 100\n",
    "\n",
    "imgs = []\n",
    "for img_id in df.path.values[:n_imgs]:\n",
    "    for class_id in num2class:\n",
    "        img = np.array(Image.open(os.path.join(cfg.img_dir, img_id, class_id+ext)).convert('L'))\n",
    "        imgs.append(img)\n",
    "imgs = np.array(imgs)\n",
    "n_samples, h, w = imgs.shape\n",
    "\n",
    "imgs = np.reshape(imgs, (n_samples, h*w))"
   ]
  },
  {
   "cell_type": "code",
   "execution_count": null,
   "id": "maritime-inquiry",
   "metadata": {},
   "outputs": [],
   "source": [
    "n_components = 30\n",
    "\n",
    "t0 = time()\n",
    "pca = PCA(n_components=n_components, svd_solver='randomized',\n",
    "          whiten=True).fit(imgs)\n",
    "print(f\"pca is fitted in {time() - t0:.0f}s\")\n",
    "print(f'Explained variation per principal component: \\n{pca.explained_variance_ratio_}')\n",
    "\n",
    "eigenfaces = pca.components_.reshape((n_components, h, w))\n",
    "img_pca = pca.transform(imgs)"
   ]
  },
  {
   "cell_type": "code",
   "execution_count": null,
   "id": "educated-continuity",
   "metadata": {},
   "outputs": [],
   "source": [
    "pca_df = pd.DataFrame(img_pca, columns=[str(col) for col in range(n_components)])\n",
    "pca_df['class_id'] = [num2class[n % len(num2class)] for n in range(n_samples)]\n",
    "pca_df['class_id'] = pca_df['class_id'].map(lambda x: x if x in ['incorrect_mask', 'normal'] else 'mask')"
   ]
  },
  {
   "cell_type": "code",
   "execution_count": null,
   "id": "recovered-spanking",
   "metadata": {},
   "outputs": [],
   "source": [
    "pca_df.head()"
   ]
  },
  {
   "cell_type": "code",
   "execution_count": null,
   "id": "diagnostic-festival",
   "metadata": {},
   "outputs": [],
   "source": [
    "plt.figure(figsize=(8,6))\n",
    "sns.scatterplot(\n",
    "    x='0', y='1',\n",
    "    hue=\"class_id\",\n",
    "    data=pca_df,\n",
    "    legend=\"full\",\n",
    "    palette=sns.color_palette(\"Set2\", 3),\n",
    "    alpha=0.8\n",
    ")"
   ]
  },
  {
   "cell_type": "code",
   "execution_count": null,
   "id": "destroyed-nation",
   "metadata": {},
   "outputs": [],
   "source": [
    "ax = plt.figure(figsize=(16,10)).gca(projection='3d')\n",
    "simplified_num2class = ['incorrect_mask', 'mask', 'normal']\n",
    "simplified_class2num = {k: v for v, k in enumerate(simplified_num2class)}\n",
    "ax.scatter(\n",
    "    xs=pca_df[\"0\"], \n",
    "    ys=pca_df[\"1\"], \n",
    "    zs=pca_df[\"2\"], \n",
    "    c=pca_df['class_id'].map(lambda x: simplified_class2num[x]), \n",
    ")\n",
    "ax.set_xlabel('pc1')\n",
    "ax.set_ylabel('pc2')\n",
    "ax.set_zlabel('pc3')\n",
    "\n",
    "plt.legend(simplified_num2class)\n",
    "plt.show()"
   ]
  },
  {
   "cell_type": "code",
   "execution_count": null,
   "id": "vertical-soundtrack",
   "metadata": {},
   "outputs": [],
   "source": [
    "time_start = time()\n",
    "tsne = TSNE(n_components=2, verbose=1, perplexity=40, n_iter=300)\n",
    "tsne_results = tsne.fit_transform(img_pca)\n",
    "print('t-SNE done! Time elapsed: {} seconds'.format(time()-time_start))"
   ]
  },
  {
   "cell_type": "code",
   "execution_count": null,
   "id": "bronze-thailand",
   "metadata": {},
   "outputs": [],
   "source": [
    "pca_df['tsne-2d-one'] = tsne_results[:,0]\n",
    "pca_df['tsne-2d-two'] = tsne_results[:,1]\n",
    "plt.figure(figsize=(8,6))\n",
    "sns.scatterplot(\n",
    "    x=\"tsne-2d-one\", y=\"tsne-2d-two\",\n",
    "    hue=\"class_id\",\n",
    "    palette=sns.color_palette(\"Set2\", 3),\n",
    "    data=pca_df,\n",
    "    legend=\"full\",\n",
    "    alpha=0.8\n",
    ")"
   ]
  }
 ],
 "metadata": {
  "kernelspec": {
   "display_name": "Python 3",
   "language": "python",
   "name": "python3"
  },
  "language_info": {
   "codemirror_mode": {
    "name": "ipython",
    "version": 3
   },
   "file_extension": ".py",
   "mimetype": "text/x-python",
   "name": "python",
   "nbconvert_exporter": "python",
   "pygments_lexer": "ipython3",
   "version": "3.7.7"
  }
 },
 "nbformat": 4,
 "nbformat_minor": 5
}